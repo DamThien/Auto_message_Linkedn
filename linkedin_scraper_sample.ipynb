{
 "cells": [
  {
   "cell_type": "code",
   "execution_count": 2,
   "metadata": {},
   "outputs": [
    {
     "name": "stdout",
     "output_type": "stream",
     "text": [
      "- Finish importing package\n"
     ]
    }
   ],
   "source": [
    "# Import libraries and packages for the project \n",
    "\n",
    "from selenium import webdriver\n",
    "from selenium.webdriver.common.keys import Keys\n",
    "from bs4 import BeautifulSoup\n",
    "from time import sleep\n",
    "import csv\n",
    "\n",
    "print('- Finish importing package')"
   ]
  },
  {
   "cell_type": "code",
   "execution_count": 4,
   "metadata": {},
   "outputs": [
    {
     "name": "stdout",
     "output_type": "stream",
     "text": [
      "- Finish initializing a driver\n",
      "- Finish importing the login credentials\n",
      "- Finish keying in email\n",
      "- Finish keying in password\n",
      "- Finish logging in\n"
     ]
    }
   ],
   "source": [
    "# Task 1: Login to Linkedin\n",
    "\n",
    "# Task 1.1: Open Chrome and Access Linkedin login site\n",
    "driver = ___\n",
    "url = ___\n",
    "driver.get(url)\n",
    "print('- Finish initializing a driver')\n",
    "\n",
    "# Task 1.2: Key in login credentials\n",
    "email_field = driver.find_element_by_*()\n",
    "email_field.___()\n",
    "print('- Finish keying in email')\n",
    "\n",
    "password_field = driver.find_element_by_*()\n",
    "password_field.___()\n",
    "print('- Finish keying in password')\n",
    "\n",
    "# Task 1.2: Click the Login button\n",
    "login_field = driver.find_element_by_*()\n",
    "signin_field.___()\n",
    "print('- Finish Task 1: Login to Linkedin')"
   ]
  },
  {
   "cell_type": "code",
   "execution_count": 3,
   "metadata": {},
   "outputs": [
    {
     "name": "stdout",
     "output_type": "stream",
     "text": [
      "What profile do you want to scrape? Frontend Developer people\n",
      "- Finish searching ...\n"
     ]
    }
   ],
   "source": [
    "# Task 2: Search for the profile we want to crawl\n",
    "\n",
    "# Task 2.1: Locate the search bar element\n",
    "search_field = driver.find_element_by_*(___)\n",
    "\n",
    "# Task 2.2: Input the search query to the search bar\n",
    "search_query = \n",
    "search_field.___(search_query)\n",
    "\n",
    "# Task 2.3: Search\n",
    "search_field.___()\n",
    "\n",
    "print('- Finish Task 2: Search for profiles')"
   ]
  },
  {
   "cell_type": "code",
   "execution_count": 4,
   "metadata": {},
   "outputs": [
    {
     "name": "stdout",
     "output_type": "stream",
     "text": [
      "How many pages you want to scrape: 3\n"
     ]
    }
   ],
   "source": [
    "# Task 3: Scrape the URLs of the profiles\n",
    "\n",
    "# Task 3.1: Write a function to extract the URLs of one page\n",
    "def GetURL():\n",
    "    page_source = BeautifulSoup(driver.page_source)\n",
    "    profiles = page_source.___() \n",
    "\n",
    "    return ___\n",
    "\n",
    "# Task 3.2: Navigate through the next pages, and extract the profile URLs of each page\n",
    "\n",
    "input_page = ___\n",
    "URLs_all_page = []\n",
    "for page in range(input_page):\n",
    "    URLs_one_page = GetURL()\n",
    "    ___\n",
    "    next_button = driver.find_element_by_*()\n",
    "    ___\n",
    "    URLs_all_page = URLs_all_page + URLs_one_page\n",
    "\n",
    "print('- Finish Task 3: Scrape the URLs')"
   ]
  },
  {
   "cell_type": "code",
   "execution_count": 5,
   "metadata": {},
   "outputs": [
    {
     "name": "stdout",
     "output_type": "stream",
     "text": [
      "- Accessing profile:  https://www.linkedin.com//in/hai-duy-lam-7b4216138/\n",
      "- Start scraping the data ...\n",
      "--- Profile name is:  hai duy lam\n",
      "--- Profile location is:  Vietnam\n",
      "--- Profile title is:  Frontend Developer at Free People\n",
      "- Accessing profile:  https://www.linkedin.com//in/trongtai37/\n",
      "- Start scraping the data ...\n",
      "--- Profile name is:  _Tai Nguyen Trong_\n",
      "--- Profile location is:  Vietnam\n",
      "--- Profile title is:  Frontend Developer at FPT Software\n",
      "- Accessing profile:  https://www.linkedin.com//in/vojislavmilenkovic/\n",
      "- Start scraping the data ...\n",
      "--- Profile name is:  Vojislav Milenkovic\n",
      "--- Profile location is:  Vietnam\n",
      "--- Profile title is:  Frontend Developer at NFQ Asia\n",
      "- Accessing profile:  https://www.linkedin.com//in/hongochoangviet/\n",
      "- Start scraping the data ...\n",
      "--- Profile name is:  Viet Ho\n",
      "--- Profile location is:  Vietnam\n",
      "--- Profile title is:  Frontend Developer at LINE Corp\n",
      "- Accessing profile:  https://www.linkedin.com//in/tai-duongquoc-370042199/\n",
      "- Start scraping the data ...\n",
      "--- Profile name is:  Tai DuongQuoc\n",
      "--- Profile location is:  Vietnam\n",
      "--- Profile title is:  Frontend Web Developer at EdgeWorks German R&D Software Ltd.\n",
      "- Accessing profile:  https://www.linkedin.com//in/viet-anh-nguyen-86ba04184/\n",
      "- Start scraping the data ...\n",
      "--- Profile name is:  Viet Anh (Tony) Nguyen\n",
      "--- Profile location is:  Vietnam\n",
      "--- Profile title is:  Frontend Developer\n",
      "- Accessing profile:  https://www.linkedin.com//in/vietanhle1808/\n",
      "- Start scraping the data ...\n",
      "--- Profile name is:  Việt Anh Lê\n",
      "--- Profile location is:  Vietnam\n",
      "--- Profile title is:  Frontend Developer at Adaptis GmbH\n",
      "- Accessing profile:  https://www.linkedin.com//in/anh-quang-b29347145/\n",
      "- Start scraping the data ...\n",
      "--- Profile name is:  Anh Quang\n",
      "--- Profile location is:  Vietnam\n",
      "--- Profile title is:  Frontend Mobile Developer at SOLAZU Co., Ltd\n",
      "- Accessing profile:  https://www.linkedin.com//in/chrispham124/\n",
      "- Start scraping the data ...\n",
      "--- Profile name is:  Hieu Pham\n",
      "--- Profile location is:  Vietnam\n",
      "--- Profile title is:  Frontend Developer at FPT Software\n",
      "- Accessing profile:  https://www.linkedin.com//in/vthoa-ta/\n",
      "- Start scraping the data ...\n",
      "--- Profile name is:  Thoa Ta\n",
      "--- Profile location is:  Vietnam\n",
      "--- Profile title is:  Frontend Web Developer at TEKO Việt Nam\n",
      "- Accessing profile:  https://www.linkedin.com//in/nguyen-dinh-phu-242146161/\n",
      "- Start scraping the data ...\n",
      "--- Profile name is:  Nguyen Dinh Phu\n",
      "--- Profile location is:  Vietnam\n",
      "--- Profile title is:  Frontend Web Developer at FPT Software\n",
      "- Accessing profile:  https://www.linkedin.com//in/vtquy98/\n",
      "- Start scraping the data ...\n",
      "--- Profile name is:  Thanh Quy Vo\n",
      "--- Profile location is:  Vietnam\n",
      "--- Profile title is:  Frontend Web Developer at Fulfilled\n",
      "- Accessing profile:  https://www.linkedin.com//in/t%C3%BA-th%C3%A0nh-nguy%E1%BB%85n-007b88153/\n",
      "- Start scraping the data ...\n",
      "--- Profile name is:  Tú Thành Nguyễn\n",
      "--- Profile location is:  Ho Chi Minh City, Vietnam\n",
      "--- Profile title is:  Frontend Developer at VinHMS\n",
      "- Accessing profile:  https://www.linkedin.com//in/syhungdoan/\n",
      "- Start scraping the data ...\n",
      "--- Profile name is:  Hung Doan Sy\n",
      "--- Profile location is:  Hanoi, Thành Phố Hà Nội, Vietnam\n",
      "--- Profile title is:  Frontend Developer at Got It Vietnam\n",
      "- Accessing profile:  https://www.linkedin.com//in/huu-luan-nguyen-383ab1134/\n",
      "- Start scraping the data ...\n",
      "--- Profile name is:  Huu Luan Nguyen\n",
      "--- Profile location is:  Vietnam\n",
      "--- Profile title is:  Frontend Developer at bbv Vietnam\n",
      "- Accessing profile:  https://www.linkedin.com//in/trung-ho-3a691797/\n",
      "- Start scraping the data ...\n",
      "--- Profile name is:  Trung Ho\n",
      "--- Profile location is:  Vietnam\n",
      "--- Profile title is:  Frontend Developer at NFQ Asia\n",
      "- Accessing profile:  https://www.linkedin.com//in/phong-duong/\n",
      "- Start scraping the data ...\n",
      "--- Profile name is:  Phong Duong\n",
      "--- Profile location is:  Vietnam\n",
      "--- Profile title is:  Full-stack Developer\n",
      "- Accessing profile:  https://www.linkedin.com//in/y-ton-chung-0311686b/\n",
      "- Start scraping the data ...\n",
      "--- Profile name is:  Y Ton Chung\n",
      "--- Profile location is:  Vietnam\n",
      "--- Profile title is:  Senior Frontend Developer\n",
      "- Accessing profile:  https://www.linkedin.com//in/trung-nguyen-aa804117a/\n",
      "- Start scraping the data ...\n",
      "--- Profile name is:  Trung Nguyen\n",
      "--- Profile location is:  Vietnam\n",
      "--- Profile title is:  Front End Developer\n"
     ]
    }
   ],
   "source": [
    "# Step 4: Scrape the data of 1 Linkedin profile, and write the data to a .CSV file\n",
    "\n",
    "with open('output.csv', 'w',  newline = '') as file_output:\n",
    "    headers = ['Name', 'Job Title', 'Location', 'URL']\n",
    "    writer = csv.DictWriter(___)\n",
    "    writer.writeheader()\n",
    "\n",
    "    for linkedin_URL in URLs_all_page:\n",
    "        driver.get(linkedin_URL)\n",
    "        print('- Accessing profile: ', linkedin_URL)\n",
    "\n",
    "        page_source = BeautifulSoup(driver.page_source, \"html.parser\")\n",
    "\n",
    "        info_div = page_source.find('div',{'class':'flex-1 mr5'})\n",
    "        info_loc = ___\n",
    "        name = ___\n",
    "        print('--- Profile name is: ', name)\n",
    "        \n",
    "        location = ___\n",
    "        print('--- Profile location is: ', loc)\n",
    "        \n",
    "        profile_title = ___\n",
    "        print('--- Profile title is: ', profile_title)\n",
    "        \n",
    "        writer.writerow(___)"
   ]
  }
 ],
 "metadata": {
  "kernelspec": {
   "display_name": "Python 3",
   "language": "python",
   "name": "python3"
  },
  "language_info": {
   "codemirror_mode": {
    "name": "ipython",
    "version": 3
   },
   "file_extension": ".py",
   "mimetype": "text/x-python",
   "name": "python",
   "nbconvert_exporter": "python",
   "pygments_lexer": "ipython3",
   "version": "3.7.6"
  }
 },
 "nbformat": 4,
 "nbformat_minor": 4
}